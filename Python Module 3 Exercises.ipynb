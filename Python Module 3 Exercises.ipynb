{
 "cells": [
  {
   "cell_type": "markdown",
   "metadata": {},
   "source": [
    "Exercise 1. Ask for a color and store that answer. \n",
    "If the answer is grey then print out you found Victor's favorite color.\n",
    "Otherwise print out the color is not Victor's favorite color."
   ]
  },
  {
   "cell_type": "code",
   "execution_count": 4,
   "metadata": {},
   "outputs": [
    {
     "name": "stdout",
     "output_type": "stream",
     "text": [
      "Enter the color: grey\n",
      "You found Victor's favorite color --> grey\n"
     ]
    }
   ],
   "source": [
    "# get input from a user\n",
    "answer = input(\"Enter the color: \")\n",
    "color = \"grey\" or \"Grey\" or \"GREY\"\n",
    "\n",
    "#compare input with color \"gray\"\n",
    "if answer == color:\n",
    "    print(\"You found Victor's favorite color -->\", answer)\n",
    "\n",
    "else:\n",
    "    print(\"The color\", ('\\033[1m' + answer + '\\033[0m'), \"is not Victor's favorite color\")    "
   ]
  },
  {
   "cell_type": "markdown",
   "metadata": {},
   "source": [
    "Exercise 2. Modify code from above exercise 1 and add in more conditions for other colors such as red, green, blue and then, write statements for them. "
   ]
  },
  {
   "cell_type": "code",
   "execution_count": 74,
   "metadata": {},
   "outputs": [
    {
     "name": "stdout",
     "output_type": "stream",
     "text": [
      "Enter the color: Green\n",
      "Try again next time!\n"
     ]
    }
   ],
   "source": [
    "answer = input(\"Enter the color: \")\n",
    "color = \"gray\" or \"Gray\" or \"GRAY\"\n",
    "\n",
    "if answer == color:\n",
    "    print(\"You found Victor's favorite color -->\", answer)\n",
    "elif answer == \"red\" :\n",
    "    print(\"The color\", ('\\033[1m' + answer + '\\033[0m'), \"is too bright\")\n",
    "elif answer == \"green\" :\n",
    "    print(\"The color\", ('\\033[1m' + answer + '\\033[0m'), \"is nice but it is not Victor's favorite color\")\n",
    "else :\n",
    "    print(\"Try again next time!\")        "
   ]
  },
  {
   "cell_type": "markdown",
   "metadata": {},
   "source": [
    "Exercise 3. Ask for an exam score and store that number. If the number is greater than 100, then print out 'You cannot have an exam score higher than 100'. If the number doesn't exceeed 100 but is greater than or equal to 75, then print out 'You did great on your exam!'. Otherwise if they scored lower than 75, then print out 'You need to study harder'."
   ]
  },
  {
   "cell_type": "code",
   "execution_count": 5,
   "metadata": {},
   "outputs": [
    {
     "name": "stdout",
     "output_type": "stream",
     "text": [
      "You cannot have an exam score higher than 100\n",
      "You did great on your exam!\n",
      "You did great on your exam!\n",
      "You need to study harder\n",
      "You need to study harder\n"
     ]
    }
   ],
   "source": [
    "def exam_score (score) :\n",
    "    if score > 100 :\n",
    "        print(\"You cannot have an exam score higher than 100\")\n",
    "    else :\n",
    "        if score >= 75 :\n",
    "            print(\"You did great on your exam!\")\n",
    "        else :\n",
    "            print(\"You need to study harder\")\n",
    "            \n",
    "exam_score(101)\n",
    "exam_score(90)\n",
    "exam_score(75)\n",
    "exam_score(74)\n",
    "exam_score(50)        "
   ]
  },
  {
   "cell_type": "code",
   "execution_count": 6,
   "metadata": {},
   "outputs": [
    {
     "name": "stdout",
     "output_type": "stream",
     "text": [
      "Enter an exam score: 65\n",
      "You need to study harder\n"
     ]
    }
   ],
   "source": [
    "score = int(input(\"Enter an exam score: \"))\n",
    "exam_score(score)"
   ]
  },
  {
   "cell_type": "markdown",
   "metadata": {},
   "source": [
    "Exercise 4. \n",
    "Define two functions: \n",
    "    - a function that takes 3 arguements and returns the sum of three arguements\n",
    "    - a function that takes 2 arguements and returns the result of 1st arguement multiplied by 2nd arguement\n",
    "\n",
    "Then tell the user to choose option 1 to add three numbers or option 2 to multiply two numbers.\n",
    "If the user choose option 1 then call the addition function, otherwise if they choose option 2 then call the mulitplication function.  If the user choose anything other than option 1 or 2, then generate a friendly error messsage"
   ]
  },
  {
   "cell_type": "code",
   "execution_count": 61,
   "metadata": {},
   "outputs": [],
   "source": [
    "def add_func(a, b, c):\n",
    "    s = a + b + c\n",
    "    return s\n",
    "\n",
    "#a = int(input(\"Enter the first number: \"))\n",
    "#b = int(input(\"Enter the second number: \"))\n",
    "#c = int(input(\"Enter the third number: \"))\n",
    "\n",
    "# function call\n",
    "#print('Total summary of three number is:', add_func(a, b, c))"
   ]
  },
  {
   "cell_type": "code",
   "execution_count": 62,
   "metadata": {},
   "outputs": [],
   "source": [
    "def multiply_func(a, b):\n",
    "    s = a * b\n",
    "    return s\n",
    "\n",
    "#a = int(input(\"Enter the first number: \"))\n",
    "#b = int(input(\"Enter the second number: \"))\n",
    "\n",
    "# function call\n",
    "#print('Total multiply of two number is:', multiply_func(a, b))"
   ]
  },
  {
   "cell_type": "code",
   "execution_count": 66,
   "metadata": {
    "scrolled": true
   },
   "outputs": [
    {
     "name": "stdout",
     "output_type": "stream",
     "text": [
      "Option 1: Add three numbers\n",
      "Option 2: Multiply two numbers\n",
      "\n",
      "Choose an option to add number: 1\n",
      "Enter the first number: 10\n",
      "Enter the second number: 20\n",
      "Enter the third number: 30\n",
      "\n",
      "Total summary of three number is: 60\n"
     ]
    }
   ],
   "source": [
    "print(\"Option 1: Add three numbers\")\n",
    "print(\"Option 2: Multiply two numbers\")\n",
    "option = int(input(\"\\nChoose an option to add number: \"))\n",
    "\n",
    "if option == 1 :\n",
    "    a = int(input(\"Enter the first number: \"))\n",
    "    b = int(input(\"Enter the second number: \"))\n",
    "    c = int(input(\"Enter the third number: \"))\n",
    "    \n",
    "    # function call\n",
    "    print('\\nTotal summary of three number is:', add_func(a, b, c))\n",
    "    \n",
    "elif option == 2 :\n",
    "    a = int(input(\"Enter the first number: \"))\n",
    "    b = int(input(\"Enter the second number: \"))\n",
    "\n",
    "    # function call\n",
    "    print('\\nTotal multiply of two number is:', multiply_func(a, b))\n",
    "    \n",
    "else :\n",
    "    print(\"ERROR: The option is not correct!\")"
   ]
  },
  {
   "cell_type": "markdown",
   "metadata": {},
   "source": [
    "Exercise 5. \n",
    "Write a function to convert a test score to a grade where  \n",
    " - 90 - 100: A\n",
    " - 80 - 89:  B\n",
    " - 70 - 79:  C\n",
    " - 60 - 69:  D\n",
    " - < 60   :  F\n",
    " \n",
    "If a score is not between 0 and 100 then print out an error message. In the program, ask the user for a score and then call your function. "
   ]
  },
  {
   "cell_type": "code",
   "execution_count": 117,
   "metadata": {},
   "outputs": [],
   "source": [
    "def grade_score(score) :\n",
    "    if score < 60 :\n",
    "        print(\"Your grade is F\")\n",
    "    elif score >= 60 and score < 69 :\n",
    "        print(\"Your grade is D\")\n",
    "    elif score >= 70 and score < 79 :\n",
    "        print(\"Your grade is C\")                    \n",
    "    elif score >= 80 and score < 89 :\n",
    "        print(\"Your grade is B\")\n",
    "    elif score >= 90 and score <= 100 :\n",
    "        print(\"Your grade is A\")\n",
    "    else :\n",
    "        print(\"Invalid score!\")    \n",
    "   \n",
    "    return (score)"
   ]
  },
  {
   "cell_type": "code",
   "execution_count": 118,
   "metadata": {},
   "outputs": [
    {
     "name": "stdout",
     "output_type": "stream",
     "text": [
      "\n",
      "Enter your score: 100\n",
      "Your grade is A\n"
     ]
    },
    {
     "data": {
      "text/plain": [
       "100"
      ]
     },
     "execution_count": 118,
     "metadata": {},
     "output_type": "execute_result"
    }
   ],
   "source": [
    "score = int(input(\"\\nEnter your score: \"))\n",
    "grade_score(score)"
   ]
  },
  {
   "cell_type": "markdown",
   "metadata": {},
   "source": [
    "Exercise 6. Write a program to compute discounts for customers.  \n",
    "- For retail customers, \n",
    "    - if invoice total is greater than \\$100 then discount rate is 10\\%, otherwise no discount \n",
    "\n",
    "- For wholesale customers,\n",
    "    - if invoice total is greater than \\$500 then discount rate is 30\\%, otherwise discount rate is 20\\%\n",
    "    \n",
    "Get the type of customer and the invoice total from the user."
   ]
  },
  {
   "cell_type": "code",
   "execution_count": 139,
   "metadata": {},
   "outputs": [
    {
     "name": "stdout",
     "output_type": "stream",
     "text": [
      "Are you a Retail Customer? : (y/n)y\n",
      "Enter invoice total: 50\n",
      "you get discount\n"
     ]
    }
   ],
   "source": [
    "retail = 'y'\n",
    "answer = input(\"Are you a Retail Customer? : (y/n)\")\n",
    "invoive = float(input(\"Enter invoice total: \"))\n",
    "\n",
    "if retail == answer and invoive > 100 :\n",
    "    print(\"Sorry, invoice total is not eligible for discount\")\n",
    "else :\n",
    "    print(\"you get discount\")            \n",
    "            \n",
    "   #     print(f\"Your discount is: ${invoice*10/100 :,.2f}\")\n",
    "        #discount = (invoice*10/100))\n",
    "        #print(f\"Your discount is: ${discount :,.2f}\")\n",
    "\n",
    "    \n",
    "#print(\"Retail Customer enter 1\")\n",
    "#print(\"Wholesale Customer enter 2\")\n",
    "#type_cust = int(input(\"\"))\n",
    "\n"
   ]
  },
  {
   "cell_type": "markdown",
   "metadata": {},
   "source": [
    "Exercise 7: Write a function that accepts two parameters (a and b) and returns a result of a/b.  In this function, try to catch any exception error.  Then, write a program to get two numbers from a user, call your function using these two numbers, and print out the result in a friendly format.  All input and print statements must be done in the main program. Repeat the process until user wants to quit the program. "
   ]
  },
  {
   "cell_type": "code",
   "execution_count": null,
   "metadata": {},
   "outputs": [],
   "source": []
  },
  {
   "cell_type": "code",
   "execution_count": null,
   "metadata": {},
   "outputs": [],
   "source": []
  },
  {
   "cell_type": "markdown",
   "metadata": {},
   "source": [
    "Exercise 8: Write a function to generate a multiplication table. Then write a program to ask a user if user wants to generate a  mutiplication table for a random number or provide a number. The program should continue to run until a user wants to quit."
   ]
  },
  {
   "cell_type": "code",
   "execution_count": null,
   "metadata": {},
   "outputs": [],
   "source": []
  },
  {
   "cell_type": "code",
   "execution_count": null,
   "metadata": {},
   "outputs": [],
   "source": []
  },
  {
   "cell_type": "markdown",
   "metadata": {},
   "source": [
    "Exercise 9: Write a function to draw a right-triangle using a number as a character.Then, write a program to generate a random number between 1 and 9, call your function with that random number.  The output should look something like this:\n",
    "\n",
    "        base: 5\n",
    "        5\n",
    "        55\n",
    "        555\n",
    "        5555\n",
    "        55555\n",
    "\n",
    "\n",
    "        base: 8\n",
    "        8\n",
    "        88\n",
    "        888\n",
    "        8888\n",
    "        88888\n",
    "        888888\n",
    "        8888888\n",
    "        88888888"
   ]
  },
  {
   "cell_type": "code",
   "execution_count": null,
   "metadata": {},
   "outputs": [],
   "source": []
  },
  {
   "cell_type": "code",
   "execution_count": null,
   "metadata": {},
   "outputs": [],
   "source": []
  },
  {
   "cell_type": "markdown",
   "metadata": {},
   "source": [
    "Exercise 10: Modify function from exercise 9 to show output like this:\n",
    "\n",
    "        base: 5\n",
    "            5\n",
    "           55\n",
    "          555\n",
    "         5555 \n",
    "        55555\n",
    "        \n",
    "        base: 8\n",
    "               8\n",
    "              88\n",
    "             888\n",
    "            8888\n",
    "           88888\n",
    "          888888\n",
    "         8888888\n",
    "        88888888 "
   ]
  },
  {
   "cell_type": "code",
   "execution_count": null,
   "metadata": {},
   "outputs": [],
   "source": []
  },
  {
   "cell_type": "code",
   "execution_count": null,
   "metadata": {},
   "outputs": [],
   "source": []
  }
 ],
 "metadata": {
  "kernelspec": {
   "display_name": "Python 3 (ipykernel)",
   "language": "python",
   "name": "python3"
  },
  "language_info": {
   "codemirror_mode": {
    "name": "ipython",
    "version": 3
   },
   "file_extension": ".py",
   "mimetype": "text/x-python",
   "name": "python",
   "nbconvert_exporter": "python",
   "pygments_lexer": "ipython3",
   "version": "3.9.13"
  }
 },
 "nbformat": 4,
 "nbformat_minor": 4
}
