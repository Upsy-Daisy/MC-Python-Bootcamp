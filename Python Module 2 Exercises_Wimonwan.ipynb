{
 "cells": [
  {
   "cell_type": "markdown",
   "metadata": {},
   "source": [
    "1. Print out a data type of a variable?"
   ]
  },
  {
   "cell_type": "code",
   "execution_count": 1,
   "metadata": {},
   "outputs": [
    {
     "name": "stdout",
     "output_type": "stream",
     "text": [
      "The varible name is of type:\t <class 'str'>\n",
      "The varible height is of type:\t <class 'float'>\n",
      "The varible phone is of type:\t <class 'int'>\n"
     ]
    }
   ],
   "source": [
    "name = \"Wimonwan\"\n",
    "height = 5.2\n",
    "phone = 2028124002\n",
    "\n",
    "print(\"The varible name is of type:\\t\", type(name))\n",
    "print(\"The varible height is of type:\\t\", type(height))\n",
    "print(\"The varible phone is of type:\\t\", type(phone))"
   ]
  },
  {
   "cell_type": "markdown",
   "metadata": {},
   "source": [
    "2. Round 4.5667 to the nearest hundreth using a build-in function, round()."
   ]
  },
  {
   "cell_type": "code",
   "execution_count": 2,
   "metadata": {},
   "outputs": [
    {
     "name": "stdout",
     "output_type": "stream",
     "text": [
      "4.567\n"
     ]
    }
   ],
   "source": [
    "# built-in function: round()\n",
    "subtotal = 4.5667\n",
    "print(round(subtotal, 3))"
   ]
  },
  {
   "cell_type": "markdown",
   "metadata": {},
   "source": [
    "3. Convert \"657\" to an integer data type"
   ]
  },
  {
   "cell_type": "code",
   "execution_count": 10,
   "metadata": {},
   "outputs": [
    {
     "name": "stdout",
     "output_type": "stream",
     "text": [
      "The 1st varible is: 657  data type  <class 'str'>\n",
      "The 2nd varible is: 657  data type  <class 'int'>\n"
     ]
    }
   ],
   "source": [
    "var1 = \"657\"\n",
    "var2 = int(var1)\n",
    "print(\"The 1st varible is:\",var1, \" data type \", type(var1))\n",
    "print(\"The 2nd varible is:\",var2, \" data type \", type(var2))"
   ]
  },
  {
   "cell_type": "markdown",
   "metadata": {},
   "source": [
    "4. Write a function to calculate the miles per gallon.\n",
    "Get a miles driven and gallons used from a user and call your function to calculate the miles per gallon. "
   ]
  },
  {
   "cell_type": "code",
   "execution_count": 50,
   "metadata": {},
   "outputs": [],
   "source": [
    "def calculateResult(miles, gallons) :\n",
    "    mpg = float(miles/gallons)\n",
    "         \n",
    "    return mpg"
   ]
  },
  {
   "cell_type": "markdown",
   "metadata": {},
   "source": [
    "5. Enhance your function from exercise 3. Additionally, get a gas price per gallon from a user and write a program to compute the total gas cost and cost per mile. \n",
    "\n",
    "The output should look something like this:\n",
    "\n",
    "    Enter miles driven:            150\n",
    "    Enter gallons of gas used:     15\n",
    "    Enter cost per gallon:          3\n",
    "\n",
    "    Miles Per Gallon:   10.0\n",
    "    Total Gas Cost:     45.0\n",
    "    Cost per Mile:      0.3\n"
   ]
  },
  {
   "cell_type": "code",
   "execution_count": 51,
   "metadata": {},
   "outputs": [
    {
     "name": "stdout",
     "output_type": "stream",
     "text": [
      "Enter miles driven:\t \t150\n",
      "Enter gallons of gas used:\t15\n",
      "Enter cost per gallons:\t \t3\n",
      "\n",
      "Mile Per Gallon:\t 10.0\n",
      "Total Gas Cost:\t \t 45.0\n",
      "Cost Per Mile: \t \t 0.3\n"
     ]
    }
   ],
   "source": [
    "# ask a user for a miles driven and gallons used\n",
    "miles = float(input(\"Enter miles driven:\\t \\t\")) \n",
    "gallons = float(input(\"Enter gallons of gas used:\\t\")) \n",
    "cost = float(input(\"Enter cost per gallons:\\t \\t\")) \n",
    "\n",
    "# call function\n",
    "a1 = calculateResult(miles, gallons)\n",
    "\n",
    "# caluclate results\n",
    "tgc = float(gallons*cost)\n",
    "cpg = float(tgc/miles)\n",
    "\n",
    "#print results\n",
    "print(\"\\nMile Per Gallon:\\t\", a1)\n",
    "print(\"Total Gas Cost:\\t \\t\", tgc)\n",
    "print(\"Cost Per Mile: \\t \\t\", cpg)    "
   ]
  },
  {
   "cell_type": "markdown",
   "metadata": {},
   "source": [
    "6. Write a function called multiply_two() that accepts two parameters. The function should print a message like '15 + 2 = 17'.  Randomly generate two numbers between 1 and 100, then call the function with the two random numbers."
   ]
  },
  {
   "cell_type": "code",
   "execution_count": 52,
   "metadata": {},
   "outputs": [],
   "source": [
    "# define function\n",
    "def multiply_two(x,y) :\n",
    "    import random\n",
    "    x = random.randint(1,100)\n",
    "    y = random.randint(1,100)\n",
    "    \n",
    "    return x,y  "
   ]
  },
  {
   "cell_type": "code",
   "execution_count": 53,
   "metadata": {},
   "outputs": [
    {
     "name": "stdout",
     "output_type": "stream",
     "text": [
      "0 + 30 = 30\n"
     ]
    }
   ],
   "source": [
    "#call function\n",
    "#sum = multiply_two(x,y)\n",
    "\n",
    "#I try to called function but it's error, so I done it this way to solved an issue\n",
    "print(x, \"+\", y, \"=\", x+y)"
   ]
  },
  {
   "cell_type": "markdown",
   "metadata": {},
   "source": [
    "7. Write a function called make_shirt() that accepts a size and the text of a message. The function should print a sentence summarizing the size of the shirt and the message printed on it. The default shirt size is large and default message is 'I love Python!' Make a default size shirt with a message, a medium shirt with the default message, and a shirt of any size with a different message."
   ]
  },
  {
   "cell_type": "code",
   "execution_count": 42,
   "metadata": {},
   "outputs": [
    {
     "name": "stdout",
     "output_type": "stream",
     "text": [
      "\n",
      "You've ordered a large shirt that says I love Python!\n"
     ]
    }
   ],
   "source": [
    "def make_shirt(size = \"large\",text = \"I love Python!\") :\n",
    "    print(\"\\nYou've ordered a \" + size + \" shirt that says \" + text)\n",
    "      \n",
    "make_shirt()"
   ]
  },
  {
   "cell_type": "code",
   "execution_count": 157,
   "metadata": {},
   "outputs": [
    {
     "name": "stdout",
     "output_type": "stream",
     "text": [
      "\n",
      "You've ordered a medium shirt that says I love Python!\n",
      "\n",
      "You've ordered a small shirt that says I love Python!\n",
      "\n",
      "You've ordered a any size shirt that says I am the best\n"
     ]
    }
   ],
   "source": [
    "make_shirt(\"medium\")\n",
    "make_shirt(\"small\")\n",
    "make_shirt(\"any size\", \"I am the best\")"
   ]
  },
  {
   "cell_type": "markdown",
   "metadata": {},
   "source": [
    "8. Create a function for a multiplication table.  Get a number from a user and then call you function which produces a multiplication table for that number.\n",
    "The output should look something like this:\n",
    "\n",
    "        Enter a number: 3\n",
    "        3 X 1 = 3\n",
    "        3 X 2 = 6\n",
    "        3 X 3 = 9\n",
    "        3 X 4 = 12\n",
    "        3 X 5 = 15\n",
    "        3 X 6 = 18\n",
    "        3 X 7 = 21\n",
    "        3 X 8 = 24\n",
    "        3 X 9 = 27\n",
    "        "
   ]
  },
  {
   "cell_type": "code",
   "execution_count": 1,
   "metadata": {},
   "outputs": [
    {
     "name": "stdout",
     "output_type": "stream",
     "text": [
      "Enter a number: 3\n",
      "3 X 1 = 3\n",
      "3 X 2 = 6\n",
      "3 X 3 = 9\n",
      "3 X 4 = 12\n",
      "3 X 5 = 15\n",
      "3 X 6 = 18\n",
      "3 X 7 = 21\n",
      "3 X 8 = 24\n",
      "3 X 9 = 27\n"
     ]
    }
   ],
   "source": [
    "def multiply_table(n, i=1):\n",
    " \n",
    "    if (i == 10):  \n",
    "        return\n",
    "    \n",
    "    print(n, \"X\", i, \"=\", n*i)\n",
    "    i += 1 \n",
    "    multiply_table(n, i)\n",
    "\n",
    "n = int(input(\"Enter a number: \"))\n",
    "multiply_table(n)"
   ]
  },
  {
   "cell_type": "markdown",
   "metadata": {},
   "source": [
    "9. Write a function that accepts a string and returns a string that is \n",
    "    - without any leading nor trailing blanks\n",
    "    - converts to all capital letters\n",
    "    - and replaces all blanks with a period(.).  \n",
    "\n",
    "Write a program to accept a string from a user then call your function and display the original string and changed string.  \n",
    "\n",
    "The output should look something like this:\n",
    "\n",
    "        Enter a text: may your dreams come true\n",
    "        \n",
    "        Original Text: may your dreams come true\n",
    "        New Text: MAY.YOUR.DREAMS.COME.TRUE"
   ]
  },
  {
   "cell_type": "code",
   "execution_count": 2,
   "metadata": {},
   "outputs": [
    {
     "name": "stdout",
     "output_type": "stream",
     "text": [
      "TRUE.COME.DREAMS.YOUR.MAY\n"
     ]
    }
   ],
   "source": [
    "def rev_sentence(sentence) :\n",
    " \n",
    "    #split the string into words\n",
    "    words = sentence.split(' ')\n",
    " \n",
    "    #reverse the split string list and join using space\n",
    "    reverse_sentence = ' '.join(reversed(words))\n",
    " \n",
    "    #return the joined string\n",
    "    return reverse_sentence\n",
    " \n",
    "if __name__ == \"__main__\":\n",
    "    input = \"may your dreams come true\"\n",
    "    print (rev_sentence(input).upper().replace(\" \",\".\"))"
   ]
  },
  {
   "cell_type": "code",
   "execution_count": 27,
   "metadata": {},
   "outputs": [
    {
     "name": "stdout",
     "output_type": "stream",
     "text": [
      "I.AM.SLEEPY\n"
     ]
    }
   ],
   "source": [
    "def change() :\n",
    "    print (text.upper().replace(\" \",\".\"))\n",
    "    \n",
    "text = \"I am sleepy\" \n",
    "#text = input(\"Enter a text: \")    # This line it's error. That's why I definded sentence to the \"text\"\n",
    "change()"
   ]
  },
  {
   "cell_type": "markdown",
   "metadata": {},
   "source": [
    "10. Write a function that returns a randomly selected character from a passed string. Write a program to accept a string from a user then call your function and display the original string and selected character.\n",
    "\n",
    "The output should look something like this:\n",
    "\n",
    "        Enter a text: functions\n",
    "        Original Text:\tfunctions\n",
    "        Random character:\ts"
   ]
  },
  {
   "cell_type": "code",
   "execution_count": null,
   "metadata": {},
   "outputs": [],
   "source": []
  }
 ],
 "metadata": {
  "kernelspec": {
   "display_name": "Python 3 (ipykernel)",
   "language": "python",
   "name": "python3"
  },
  "language_info": {
   "codemirror_mode": {
    "name": "ipython",
    "version": 3
   },
   "file_extension": ".py",
   "mimetype": "text/x-python",
   "name": "python",
   "nbconvert_exporter": "python",
   "pygments_lexer": "ipython3",
   "version": "3.9.13"
  }
 },
 "nbformat": 4,
 "nbformat_minor": 4
}
